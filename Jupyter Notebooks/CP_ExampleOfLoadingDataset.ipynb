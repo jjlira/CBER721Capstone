{
 "cells": [
  {
   "cell_type": "markdown",
   "id": "f601dc3f",
   "metadata": {},
   "source": [
    "# Load dataset for testing \"using read_csv()\""
   ]
  },
  {
   "cell_type": "markdown",
   "id": "3781135e",
   "metadata": {},
   "source": [
    "# Capstone Project"
   ]
  },
  {
   "cell_type": "code",
   "execution_count": 2,
   "id": "2e1b2331",
   "metadata": {},
   "outputs": [],
   "source": [
    "import os\n",
    "import pandas as pd"
   ]
  },
  {
   "cell_type": "code",
   "execution_count": 5,
   "id": "247ccbf6",
   "metadata": {},
   "outputs": [],
   "source": [
    "mainpath = r\"C:\\Users\\super\\Desktop\\CapStoneProject\\PCAPs\"\n",
    "filename = \"Example.csv\"\n",
    "fullpath = os.path.join(mainpath, filename)"
   ]
  },
  {
   "cell_type": "code",
   "execution_count": 6,
   "id": "1a818d5d",
   "metadata": {},
   "outputs": [],
   "source": [
    "data = pd.read_csv(fullpath)"
   ]
  },
  {
   "cell_type": "code",
   "execution_count": 8,
   "id": "e03b164a",
   "metadata": {},
   "outputs": [
    {
     "data": {
      "text/html": [
       "<div>\n",
       "<style scoped>\n",
       "    .dataframe tbody tr th:only-of-type {\n",
       "        vertical-align: middle;\n",
       "    }\n",
       "\n",
       "    .dataframe tbody tr th {\n",
       "        vertical-align: top;\n",
       "    }\n",
       "\n",
       "    .dataframe thead th {\n",
       "        text-align: right;\n",
       "    }\n",
       "</style>\n",
       "<table border=\"1\" class=\"dataframe\">\n",
       "  <thead>\n",
       "    <tr style=\"text-align: right;\">\n",
       "      <th></th>\n",
       "      <th>No.</th>\n",
       "      <th>Time</th>\n",
       "      <th>Source</th>\n",
       "      <th>Destination</th>\n",
       "      <th>Protocol</th>\n",
       "      <th>Length</th>\n",
       "      <th>Info</th>\n",
       "    </tr>\n",
       "  </thead>\n",
       "  <tbody>\n",
       "    <tr>\n",
       "      <th>0</th>\n",
       "      <td>1</td>\n",
       "      <td>0.000000</td>\n",
       "      <td>8.254.250.126</td>\n",
       "      <td>192.168.10.5</td>\n",
       "      <td>TCP</td>\n",
       "      <td>60</td>\n",
       "      <td>80  &gt;  49188 [FIN, ACK] Seq=1 Ack=1 Win=329 Len=0</td>\n",
       "    </tr>\n",
       "    <tr>\n",
       "      <th>1</th>\n",
       "      <td>2</td>\n",
       "      <td>0.000004</td>\n",
       "      <td>8.254.250.126</td>\n",
       "      <td>192.168.10.5</td>\n",
       "      <td>TCP</td>\n",
       "      <td>60</td>\n",
       "      <td>[TCP Out-Of-Order] 80  &gt;  49188 [FIN, ACK] Seq...</td>\n",
       "    </tr>\n",
       "    <tr>\n",
       "      <th>2</th>\n",
       "      <td>3</td>\n",
       "      <td>0.000005</td>\n",
       "      <td>8.254.250.126</td>\n",
       "      <td>192.168.10.5</td>\n",
       "      <td>TCP</td>\n",
       "      <td>60</td>\n",
       "      <td>[TCP Out-Of-Order] 80  &gt;  49188 [FIN, ACK] Seq...</td>\n",
       "    </tr>\n",
       "    <tr>\n",
       "      <th>3</th>\n",
       "      <td>4</td>\n",
       "      <td>0.000006</td>\n",
       "      <td>8.254.250.126</td>\n",
       "      <td>192.168.10.5</td>\n",
       "      <td>TCP</td>\n",
       "      <td>60</td>\n",
       "      <td>[TCP Out-Of-Order] 80  &gt;  49188 [FIN, ACK] Seq...</td>\n",
       "    </tr>\n",
       "    <tr>\n",
       "      <th>4</th>\n",
       "      <td>5</td>\n",
       "      <td>0.000007</td>\n",
       "      <td>8.254.250.126</td>\n",
       "      <td>192.168.10.5</td>\n",
       "      <td>TCP</td>\n",
       "      <td>60</td>\n",
       "      <td>[TCP Out-Of-Order] 80  &gt;  49188 [FIN, ACK] Seq...</td>\n",
       "    </tr>\n",
       "  </tbody>\n",
       "</table>\n",
       "</div>"
      ],
      "text/plain": [
       "   No.      Time         Source   Destination Protocol  Length  \\\n",
       "0    1  0.000000  8.254.250.126  192.168.10.5      TCP      60   \n",
       "1    2  0.000004  8.254.250.126  192.168.10.5      TCP      60   \n",
       "2    3  0.000005  8.254.250.126  192.168.10.5      TCP      60   \n",
       "3    4  0.000006  8.254.250.126  192.168.10.5      TCP      60   \n",
       "4    5  0.000007  8.254.250.126  192.168.10.5      TCP      60   \n",
       "\n",
       "                                                Info  \n",
       "0  80  >  49188 [FIN, ACK] Seq=1 Ack=1 Win=329 Len=0  \n",
       "1  [TCP Out-Of-Order] 80  >  49188 [FIN, ACK] Seq...  \n",
       "2  [TCP Out-Of-Order] 80  >  49188 [FIN, ACK] Seq...  \n",
       "3  [TCP Out-Of-Order] 80  >  49188 [FIN, ACK] Seq...  \n",
       "4  [TCP Out-Of-Order] 80  >  49188 [FIN, ACK] Seq...  "
      ]
     },
     "execution_count": 8,
     "metadata": {},
     "output_type": "execute_result"
    }
   ],
   "source": [
    "data.head()"
   ]
  },
  {
   "cell_type": "code",
   "execution_count": 9,
   "id": "6aa2ea6a",
   "metadata": {},
   "outputs": [
    {
     "data": {
      "text/html": [
       "<div>\n",
       "<style scoped>\n",
       "    .dataframe tbody tr th:only-of-type {\n",
       "        vertical-align: middle;\n",
       "    }\n",
       "\n",
       "    .dataframe tbody tr th {\n",
       "        vertical-align: top;\n",
       "    }\n",
       "\n",
       "    .dataframe thead th {\n",
       "        text-align: right;\n",
       "    }\n",
       "</style>\n",
       "<table border=\"1\" class=\"dataframe\">\n",
       "  <thead>\n",
       "    <tr style=\"text-align: right;\">\n",
       "      <th></th>\n",
       "      <th>No.</th>\n",
       "      <th>Time</th>\n",
       "      <th>Source</th>\n",
       "      <th>Destination</th>\n",
       "      <th>Protocol</th>\n",
       "      <th>Length</th>\n",
       "      <th>Info</th>\n",
       "    </tr>\n",
       "  </thead>\n",
       "  <tbody>\n",
       "    <tr>\n",
       "      <th>11709966</th>\n",
       "      <td>11709967</td>\n",
       "      <td>29135.820181</td>\n",
       "      <td>192.168.10.19</td>\n",
       "      <td>23.61.187.27</td>\n",
       "      <td>TCP</td>\n",
       "      <td>66</td>\n",
       "      <td>48301  &gt;  80 [ACK] Seq=1297 Ack=5888 Win=42880...</td>\n",
       "    </tr>\n",
       "    <tr>\n",
       "      <th>11709967</th>\n",
       "      <td>11709968</td>\n",
       "      <td>29135.821977</td>\n",
       "      <td>192.168.10.19</td>\n",
       "      <td>71.74.176.101</td>\n",
       "      <td>TLSv1.2</td>\n",
       "      <td>382</td>\n",
       "      <td>Application Data</td>\n",
       "    </tr>\n",
       "    <tr>\n",
       "      <th>11709968</th>\n",
       "      <td>11709969</td>\n",
       "      <td>29135.863701</td>\n",
       "      <td>71.74.176.101</td>\n",
       "      <td>192.168.10.19</td>\n",
       "      <td>TLSv1.2</td>\n",
       "      <td>620</td>\n",
       "      <td>Application Data</td>\n",
       "    </tr>\n",
       "    <tr>\n",
       "      <th>11709969</th>\n",
       "      <td>11709970</td>\n",
       "      <td>29135.865284</td>\n",
       "      <td>192.168.10.19</td>\n",
       "      <td>71.74.176.101</td>\n",
       "      <td>TLSv1.2</td>\n",
       "      <td>427</td>\n",
       "      <td>Application Data</td>\n",
       "    </tr>\n",
       "    <tr>\n",
       "      <th>11709970</th>\n",
       "      <td>11709971</td>\n",
       "      <td>29135.874581</td>\n",
       "      <td>192.168.10.14</td>\n",
       "      <td>52.84.143.13</td>\n",
       "      <td>TCP</td>\n",
       "      <td>60</td>\n",
       "      <td>[TCP Keep-Alive] 60013  &gt;  443 [ACK] Seq=1068 ...</td>\n",
       "    </tr>\n",
       "  </tbody>\n",
       "</table>\n",
       "</div>"
      ],
      "text/plain": [
       "               No.          Time         Source    Destination Protocol  \\\n",
       "11709966  11709967  29135.820181  192.168.10.19   23.61.187.27      TCP   \n",
       "11709967  11709968  29135.821977  192.168.10.19  71.74.176.101  TLSv1.2   \n",
       "11709968  11709969  29135.863701  71.74.176.101  192.168.10.19  TLSv1.2   \n",
       "11709969  11709970  29135.865284  192.168.10.19  71.74.176.101  TLSv1.2   \n",
       "11709970  11709971  29135.874581  192.168.10.14   52.84.143.13      TCP   \n",
       "\n",
       "          Length                                               Info  \n",
       "11709966      66  48301  >  80 [ACK] Seq=1297 Ack=5888 Win=42880...  \n",
       "11709967     382                                   Application Data  \n",
       "11709968     620                                   Application Data  \n",
       "11709969     427                                   Application Data  \n",
       "11709970      60  [TCP Keep-Alive] 60013  >  443 [ACK] Seq=1068 ...  "
      ]
     },
     "execution_count": 9,
     "metadata": {},
     "output_type": "execute_result"
    }
   ],
   "source": [
    "data.tail(5)"
   ]
  },
  {
   "cell_type": "code",
   "execution_count": 10,
   "id": "76f5e55d",
   "metadata": {},
   "outputs": [
    {
     "data": {
      "text/plain": [
       "(11709971, 7)"
      ]
     },
     "execution_count": 10,
     "metadata": {},
     "output_type": "execute_result"
    }
   ],
   "source": [
    "data.shape"
   ]
  },
  {
   "cell_type": "code",
   "execution_count": 11,
   "id": "768dddb5",
   "metadata": {},
   "outputs": [
    {
     "data": {
      "text/plain": [
       "array(['No.', 'Time', 'Source', 'Destination', 'Protocol', 'Length',\n",
       "       'Info'], dtype=object)"
      ]
     },
     "execution_count": 11,
     "metadata": {},
     "output_type": "execute_result"
    }
   ],
   "source": [
    "data.columns.values"
   ]
  },
  {
   "cell_type": "markdown",
   "id": "ef45f0c7",
   "metadata": {},
   "source": [
    "# Summary of basic stats"
   ]
  },
  {
   "cell_type": "code",
   "execution_count": 4,
   "id": "e4943d82",
   "metadata": {},
   "outputs": [
    {
     "data": {
      "text/plain": [
       "'C:\\\\Users\\\\super'"
      ]
     },
     "execution_count": 4,
     "metadata": {},
     "output_type": "execute_result"
    }
   ],
   "source": [
    "os.getcwd()"
   ]
  },
  {
   "cell_type": "code",
   "execution_count": 12,
   "id": "d93493c6",
   "metadata": {},
   "outputs": [
    {
     "data": {
      "text/plain": [
       "No.              int64\n",
       "Time           float64\n",
       "Source          object\n",
       "Destination     object\n",
       "Protocol        object\n",
       "Length           int64\n",
       "Info            object\n",
       "dtype: object"
      ]
     },
     "execution_count": 12,
     "metadata": {},
     "output_type": "execute_result"
    }
   ],
   "source": [
    "data.dtypes"
   ]
  },
  {
   "cell_type": "code",
   "execution_count": 13,
   "id": "6d767eda",
   "metadata": {},
   "outputs": [
    {
     "data": {
      "text/html": [
       "<div>\n",
       "<style scoped>\n",
       "    .dataframe tbody tr th:only-of-type {\n",
       "        vertical-align: middle;\n",
       "    }\n",
       "\n",
       "    .dataframe tbody tr th {\n",
       "        vertical-align: top;\n",
       "    }\n",
       "\n",
       "    .dataframe thead th {\n",
       "        text-align: right;\n",
       "    }\n",
       "</style>\n",
       "<table border=\"1\" class=\"dataframe\">\n",
       "  <thead>\n",
       "    <tr style=\"text-align: right;\">\n",
       "      <th></th>\n",
       "      <th>No.</th>\n",
       "      <th>Time</th>\n",
       "      <th>Length</th>\n",
       "    </tr>\n",
       "  </thead>\n",
       "  <tbody>\n",
       "    <tr>\n",
       "      <th>count</th>\n",
       "      <td>1.170997e+07</td>\n",
       "      <td>1.170997e+07</td>\n",
       "      <td>1.170997e+07</td>\n",
       "    </tr>\n",
       "    <tr>\n",
       "      <th>mean</th>\n",
       "      <td>5.854986e+06</td>\n",
       "      <td>8.713698e+03</td>\n",
       "      <td>8.909583e+02</td>\n",
       "    </tr>\n",
       "    <tr>\n",
       "      <th>std</th>\n",
       "      <td>3.380378e+06</td>\n",
       "      <td>8.723033e+03</td>\n",
       "      <td>1.160192e+03</td>\n",
       "    </tr>\n",
       "    <tr>\n",
       "      <th>min</th>\n",
       "      <td>1.000000e+00</td>\n",
       "      <td>0.000000e+00</td>\n",
       "      <td>6.000000e+01</td>\n",
       "    </tr>\n",
       "    <tr>\n",
       "      <th>25%</th>\n",
       "      <td>2.927494e+06</td>\n",
       "      <td>2.274382e+03</td>\n",
       "      <td>6.000000e+01</td>\n",
       "    </tr>\n",
       "    <tr>\n",
       "      <th>50%</th>\n",
       "      <td>5.854986e+06</td>\n",
       "      <td>3.247353e+03</td>\n",
       "      <td>9.700000e+01</td>\n",
       "    </tr>\n",
       "    <tr>\n",
       "      <th>75%</th>\n",
       "      <td>8.782478e+06</td>\n",
       "      <td>1.478169e+04</td>\n",
       "      <td>1.514000e+03</td>\n",
       "    </tr>\n",
       "    <tr>\n",
       "      <th>max</th>\n",
       "      <td>1.170997e+07</td>\n",
       "      <td>2.913587e+04</td>\n",
       "      <td>2.341400e+04</td>\n",
       "    </tr>\n",
       "  </tbody>\n",
       "</table>\n",
       "</div>"
      ],
      "text/plain": [
       "                No.          Time        Length\n",
       "count  1.170997e+07  1.170997e+07  1.170997e+07\n",
       "mean   5.854986e+06  8.713698e+03  8.909583e+02\n",
       "std    3.380378e+06  8.723033e+03  1.160192e+03\n",
       "min    1.000000e+00  0.000000e+00  6.000000e+01\n",
       "25%    2.927494e+06  2.274382e+03  6.000000e+01\n",
       "50%    5.854986e+06  3.247353e+03  9.700000e+01\n",
       "75%    8.782478e+06  1.478169e+04  1.514000e+03\n",
       "max    1.170997e+07  2.913587e+04  2.341400e+04"
      ]
     },
     "execution_count": 13,
     "metadata": {},
     "output_type": "execute_result"
    }
   ],
   "source": [
    "data.describe()"
   ]
  },
  {
   "cell_type": "code",
   "execution_count": null,
   "id": "03b7ebe2",
   "metadata": {},
   "outputs": [],
   "source": []
  }
 ],
 "metadata": {
  "kernelspec": {
   "display_name": "Python 3 (ipykernel)",
   "language": "python",
   "name": "python3"
  },
  "language_info": {
   "codemirror_mode": {
    "name": "ipython",
    "version": 3
   },
   "file_extension": ".py",
   "mimetype": "text/x-python",
   "name": "python",
   "nbconvert_exporter": "python",
   "pygments_lexer": "ipython3",
   "version": "3.9.7"
  }
 },
 "nbformat": 4,
 "nbformat_minor": 5
}
